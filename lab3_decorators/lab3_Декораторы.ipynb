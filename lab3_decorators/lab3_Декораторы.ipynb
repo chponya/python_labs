{
  "nbformat": 4,
  "nbformat_minor": 0,
  "metadata": {
    "colab": {
      "provenance": [],
      "authorship_tag": "ABX9TyPaAZqJsS7R4rL2QKN4Bohg",
      "include_colab_link": true
    },
    "kernelspec": {
      "name": "python3",
      "display_name": "Python 3"
    },
    "language_info": {
      "name": "python"
    }
  },
  "cells": [
    {
      "cell_type": "markdown",
      "metadata": {
        "id": "view-in-github",
        "colab_type": "text"
      },
      "source": [
        "<a href=\"https://colab.research.google.com/github/chponya/python_labs/blob/main/lab3_decorators/lab3_%D0%94%D0%B5%D0%BA%D0%BE%D1%80%D0%B0%D1%82%D0%BE%D1%80%D1%8B.ipynb\" target=\"_parent\"><img src=\"https://colab.research.google.com/assets/colab-badge.svg\" alt=\"Open In Colab\"/></a>"
      ]
    },
    {
      "cell_type": "markdown",
      "source": [
        "## Задача 1: Декоратор для логирования"
      ],
      "metadata": {
        "id": "r2MM6KOEltvY"
      }
    },
    {
      "cell_type": "code",
      "source": [
        "import time\n",
        "from datetime import datetime\n",
        "\n",
        "def log_decorator(func):\n",
        "    def wrapper(*args, **kwargs):\n",
        "        start_time = time.time()\n",
        "        start_dt = datetime.now().strftime(\"[%Y-%m-%d %H:%M:%S]\")\n",
        "\n",
        "        with open(\"log.txt\", \"a\", encoding=\"utf-8\") as f:\n",
        "            f.write(f\"{start_dt} Функция '{func.__name__}' вызвана с аргументами: {args}\\n\")\n",
        "\n",
        "        result = func(*args, **kwargs)\n",
        "\n",
        "        end_time = time.time()\n",
        "        end_dt = datetime.now().strftime(\"[%Y-%m-%d %H:%M:%S]\")\n",
        "        duration = round(end_time - start_time)\n",
        "\n",
        "        with open(\"log.txt\", \"a\", encoding=\"utf-8\") as f:\n",
        "            f.write(f\"{end_dt} Функция '{func.__name__}' завершена. Время выполнения: {duration} сек.\\n\")\n",
        "\n",
        "        return result\n",
        "    return wrapper\n",
        "\n",
        "@log_decorator\n",
        "def calculate(a, b, operation):\n",
        "    if operation == '+':\n",
        "        return a + b\n",
        "    elif operation == '-':\n",
        "        return a - b\n",
        "    elif operation == '*':\n",
        "        return a * b\n",
        "    elif operation == '/':\n",
        "        return a / b\n",
        "    else:\n",
        "        raise ValueError(\"Неподдерживаемая операция\")\n",
        "\n",
        "# Пример вызова\n",
        "calculate(10, 5, '+')\n"
      ],
      "metadata": {
        "colab": {
          "base_uri": "https://localhost:8080/"
        },
        "id": "IlDfl3DMls7r",
        "outputId": "cbde6093-a1f7-4bc0-abf0-0da816a2caf0"
      },
      "execution_count": 1,
      "outputs": [
        {
          "output_type": "execute_result",
          "data": {
            "text/plain": [
              "15"
            ]
          },
          "metadata": {},
          "execution_count": 1
        }
      ]
    }
  ]
}