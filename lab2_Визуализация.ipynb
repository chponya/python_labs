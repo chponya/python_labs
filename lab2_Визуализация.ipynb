{
  "nbformat": 4,
  "nbformat_minor": 0,
  "metadata": {
    "colab": {
      "provenance": [],
      "authorship_tag": "ABX9TyNqjo/qbyAHZqYDPcOkCj5L",
      "include_colab_link": true
    },
    "kernelspec": {
      "name": "python3",
      "display_name": "Python 3"
    },
    "language_info": {
      "name": "python"
    }
  },
  "cells": [
    {
      "cell_type": "markdown",
      "metadata": {
        "id": "view-in-github",
        "colab_type": "text"
      },
      "source": [
        "<a href=\"https://colab.research.google.com/github/chponya/python_labs/blob/main/lab2_%D0%92%D0%B8%D0%B7%D1%83%D0%B0%D0%BB%D0%B8%D0%B7%D0%B0%D1%86%D0%B8%D1%8F.ipynb\" target=\"_parent\"><img src=\"https://colab.research.google.com/assets/colab-badge.svg\" alt=\"Open In Colab\"/></a>"
      ]
    },
    {
      "cell_type": "markdown",
      "source": [
        "# Визуализация"
      ],
      "metadata": {
        "id": "t62eauUlVtKl"
      }
    },
    {
      "cell_type": "markdown",
      "source": [
        "шпаргалка: https://docs.yandex.ru/docs/view?url=ya-disk-public%3A%2F%2FnoKb9SDRdoDX972ZwZYMCDd1oxvOdJcc98CfN6gdFMVlm4%2Ft91brLf5l3cDvlsb8q%2FJ6bpmRyOJonT3VoXnDag%3D%3D%3A%2F%D0%94%D0%BB%D1%8F%20%D1%81%D0%B4%D0%B0%D1%87%D0%B8%2F2%2F%D1%88%D0%BF%D0%B0%D1%80%D0%B3%D0%B0%D0%BB%D0%BA%D0%B0.docx&name=%D1%88%D0%BF%D0%B0%D1%80%D0%B3%D0%B0%D0%BB%D0%BA%D0%B0.docx"
      ],
      "metadata": {
        "id": "WowwzJKddrzT"
      }
    },
    {
      "cell_type": "markdown",
      "source": [
        "# Задание 1."
      ],
      "metadata": {
        "id": "Ucp9pBkFdKZH"
      }
    },
    {
      "cell_type": "code",
      "execution_count": null,
      "metadata": {
        "id": "r8v22_BMVkYG"
      },
      "outputs": [],
      "source": []
    }
  ]
}